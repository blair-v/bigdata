{
 "cells": [
  {
   "cell_type": "code",
   "execution_count": 14,
   "metadata": {},
   "outputs": [],
   "source": [
    "import json\n",
    "a= '''[  {\n",
    "    \"fieldCode\": \"E_PRO_4\",\n",
    "    \"companyName\": \"NASDAQ_KIRK_2019\",\n",
    "    \"remark\": \"\",\n",
    "    \"caseNo\": \"prod_NASDAQ_K_42\",\n",
    "    \"confirmed\": true,\n",
    "    \"nameInCase\": \"\",\n",
    "    \"fieldType\": 2,\n",
    "    \"unit\": \"percent\",\n",
    "    \"fromType\": \"\",\n",
    "    \"pageNo\": \"\",\n",
    "    \"currency\": \"USD\",\n",
    "    \"from\": \"\",\n",
    "    \"id\": 1274,\n",
    "    \"value\": \"2.1\",\n",
    "    \"fileId\": 38,\n",
    "    \"fileType\": \"AR\",\n",
    "    \"fieldName\": \"EBITDA Margin\",\n",
    "    \"date\": \"2019-07-01\",\n",
    "    \"fileName\": \"NASDAQ_KIRK_2018.pdf\"\n",
    "  }\n",
    "]'''"
   ]
  },
  {
   "cell_type": "code",
   "execution_count": 16,
   "metadata": {},
   "outputs": [
    {
     "data": {
      "text/plain": [
       "[{'fieldCode': 'E_PRO_4',\n",
       "  'companyName': 'NASDAQ_KIRK_2019',\n",
       "  'remark': '',\n",
       "  'caseNo': 'prod_NASDAQ_K_42',\n",
       "  'confirmed': True,\n",
       "  'nameInCase': '',\n",
       "  'fieldType': 2,\n",
       "  'unit': 'percent',\n",
       "  'fromType': '',\n",
       "  'pageNo': '',\n",
       "  'currency': 'USD',\n",
       "  'from': '',\n",
       "  'id': 1274,\n",
       "  'value': '2.1',\n",
       "  'fileId': 38,\n",
       "  'fileType': 'AR',\n",
       "  'fieldName': 'EBITDA Margin',\n",
       "  'date': '2019-07-01',\n",
       "  'fileName': 'NASDAQ_KIRK_2018.pdf'}]"
      ]
     },
     "execution_count": 16,
     "metadata": {},
     "output_type": "execute_result"
    }
   ],
   "source": [
    "c = json.loads(a)\n",
    "c"
   ]
  },
  {
   "cell_type": "code",
   "execution_count": 5,
   "metadata": {},
   "outputs": [],
   "source": [
    "import pandas as pd\n",
    "import pydash"
   ]
  },
  {
   "cell_type": "code",
   "execution_count": 8,
   "metadata": {},
   "outputs": [],
   "source": [
    "gold_list = a"
   ]
  },
  {
   "cell_type": "code",
   "execution_count": 11,
   "metadata": {},
   "outputs": [
    {
     "data": {
      "text/plain": [
       "{'2019-07-01': [{'fieldCode': 'E_PRO_4',\n",
       "   'companyName': 'NASDAQ_KIRK_2019',\n",
       "   'remark': '',\n",
       "   'caseNo': 'prod_NASDAQ_K_42',\n",
       "   'confirmed': True,\n",
       "   'nameInCase': '',\n",
       "   'fieldType': 2,\n",
       "   'unit': 'percent',\n",
       "   'fromType': '',\n",
       "   'pageNo': '',\n",
       "   'currency': 'USD',\n",
       "   'from': '',\n",
       "   'id': 1274,\n",
       "   'value': '2.1',\n",
       "   'fileId': 38,\n",
       "   'fileType': 'AR',\n",
       "   'fieldName': 'EBITDA Margin',\n",
       "   'date': '2019-07-01',\n",
       "   'fileName': 'NASDAQ_KIRK_2018.pdf'}]}"
      ]
     },
     "execution_count": 11,
     "metadata": {},
     "output_type": "execute_result"
    }
   ],
   "source": [
    "gold_year_dict = pydash.group_by(gold_list, [\"date\"])\n",
    "gold_year_dict"
   ]
  },
  {
   "cell_type": "code",
   "execution_count": null,
   "metadata": {},
   "outputs": [],
   "source": []
  }
 ],
 "metadata": {
  "kernelspec": {
   "display_name": "Python 3",
   "language": "python",
   "name": "python3"
  },
  "language_info": {
   "codemirror_mode": {
    "name": "ipython",
    "version": 3
   },
   "file_extension": ".py",
   "mimetype": "text/x-python",
   "name": "python",
   "nbconvert_exporter": "python",
   "pygments_lexer": "ipython3",
   "version": "3.6.3"
  }
 },
 "nbformat": 4,
 "nbformat_minor": 2
}
